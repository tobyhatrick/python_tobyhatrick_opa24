{
 "cells": [
  {
   "cell_type": "code",
   "execution_count": null,
   "id": "edca42e8",
   "metadata": {},
   "outputs": [],
   "source": [
    "import pandas as pd\n",
    "from tabulate import tabulate  # För snyggare utskrift\n",
    "\n",
    "# Filnamn och ämnen\n",
    "file_path = \"riket2023_åk9_np.xlsx\"\n",
    "subjects = [\"Engelska\", \"Matematik\", \"Svenska\", \"Svenska som andraspråk\"]\n",
    "\n",
    "# Läs in data, hoppa över de första 8 raderna\n",
    "dfs = {subject: pd.read_excel(file_path, sheet_name=subject, skiprows=8) for subject in subjects}\n",
    "\n",
    "\n"
   ]
  }
 ],
 "metadata": {
  "kernelspec": {
   "display_name": ".venv",
   "language": "python",
   "name": "python3"
  },
  "language_info": {
   "codemirror_mode": {
    "name": "ipython",
    "version": 3
   },
   "file_extension": ".py",
   "mimetype": "text/x-python",
   "name": "python",
   "nbconvert_exporter": "python",
   "pygments_lexer": "ipython3",
   "version": "3.13.2"
  }
 },
 "nbformat": 4,
 "nbformat_minor": 5
}
