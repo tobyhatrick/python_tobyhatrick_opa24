{
 "cells": [
  {
   "cell_type": "code",
   "execution_count": null,
   "id": "caa3a402",
   "metadata": {},
   "outputs": [],
   "source": [
    "import plotly.express as px\n",
    "import pandas as pd\n",
    "import os\n",
    "\n",
    "#Läser in Excel-filen betyg o prov riksnivå\n",
    "header_row = 7  # Radnumret där kolumnrubrikerna börjar\n",
    "df = pd.read_excel(\"betyg_o_prov_riksnivå.xlsx\", sheet_name=\"Tabell 1B\", engine=\"openpyxl\", header=header_row)\n",
    "\n",
    "# Bytt namn på första kolumnen till Läsår\n",
    "df.rename(columns={\"Unnamed: 0\": \"Läsår\"}, inplace=True)\n",
    "\n",
    "#  Filtrera ut endast läsår 2018/19 – 2022/23\n",
    "df = df[df[\"Läsår\"].astype(str).str.match(r\"^\\d{4}/\\d{2}$\")] # gpts tips Den filtrerar alltså ut endast de rader där Läsår är skrivet som YYYY/YY\n",
    "\n",
    "df.rename(columns={ # # Byter namn på kolumner för att tydliggöra att de gäller meritvärde i 16 ämnen\n",
    "    \"Totalt\": \"Totalt 16 ämnen\",\n",
    "    \"Flickor\": \"Flickor 16 ämnen\",\n",
    "    \"Pojkar\": \"Pojkar 16 ämnen\"\n",
    "}, inplace=True) #  gör att ändringarna sker direkt i df utan att skapa en ny variabel\n",
    "\n",
    "#Välj de korrekta kolumnerna för meritvärde i 16 ämnen\n",
    "korrekt_kolumner = [\"Totalt 16 ämnen\", \"Flickor 16 ämnen\", \"Pojkar 16 ämnen\"]\n",
    "\n",
    "# Kontrollera att de valda kolumnerna finns i dataFrame\n",
    "förlorade_kolumner = [kol for kol in korrekt_kolumner if kol not in df.columns]\n",
    "if förlorade_kolumner:\n",
    "    raise ValueError(f\"Följande kolumner saknas: {förlorade_kolumner}\")\n",
    "\n"
   ]
  }
 ],
 "metadata": {
  "kernelspec": {
   "display_name": ".venv",
   "language": "python",
   "name": "python3"
  },
  "language_info": {
   "codemirror_mode": {
    "name": "ipython",
    "version": 3
   },
   "file_extension": ".py",
   "mimetype": "text/x-python",
   "name": "python",
   "nbconvert_exporter": "python",
   "pygments_lexer": "ipython3",
   "version": "3.13.3"
  }
 },
 "nbformat": 4,
 "nbformat_minor": 5
}
