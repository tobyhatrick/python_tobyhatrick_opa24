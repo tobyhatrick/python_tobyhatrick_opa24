{
 "cells": [
  {
   "cell_type": "code",
   "execution_count": null,
   "id": "0a715845",
   "metadata": {},
   "outputs": [],
   "source": [
    "import pandas as pd\n",
    "\n",
    "# Fil och ämneslista\n",
    "file_path = \"riket2023_åk9_np.xlsx\"\n",
    "subjects = [\"Engelska\", \"Matematik\", \"Svenska\", \"Svenska som andraspråk\"]\n",
    "\n",
    "# Kolumnnamn att använda\n",
    "kolumnnamn = [\n",
    "    \"Plats\", \"Huvudman\", \"Totalt (A-F)\", \"Flickor (A-F)\", \"Pojkar (A-F)\",\n",
    "    \"Totalt (A-E)\", \"Flickor (A-E)\", \"Pojkar (A-E)\",\n",
    "    \"Totalt (poäng)\", \"Flickor (poäng)\", \"Pojkar (poäng)\"\n",
    "]\n",
    "\n",
    "# Läs in alla blad och tilldela kolumnnamn\n",
    "data_per_ämne = {}\n",
    "for ämne in subjects:\n",
    "    df = pd.read_excel(file_path, sheet_name=ämne, skiprows=8)\n",
    "    df.columns = kolumnnamn\n",
    "    data_per_ämne[ämne] = df\n",
    "\n",
    "# Gör numeriska kolumner till float och hantera ogiltiga värden\n",
    "numeriska_kolumner = kolumnnamn[2:]  # Hoppa över \"Plats\" och \"Huvudman\"\n"
   ]
  }
 ],
 "metadata": {
  "kernelspec": {
   "display_name": ".venv",
   "language": "python",
   "name": "python3"
  },
  "language_info": {
   "codemirror_mode": {
    "name": "ipython",
    "version": 3
   },
   "file_extension": ".py",
   "mimetype": "text/x-python",
   "name": "python",
   "nbconvert_exporter": "python",
   "pygments_lexer": "ipython3",
   "version": "3.13.2"
  }
 },
 "nbformat": 4,
 "nbformat_minor": 5
}
