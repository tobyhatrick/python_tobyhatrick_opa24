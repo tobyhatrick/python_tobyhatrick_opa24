{
 "cells": [
  {
   "cell_type": "code",
   "execution_count": null,
   "id": "50b2d1a6",
   "metadata": {},
   "outputs": [
    {
     "name": "stdout",
     "output_type": "stream",
     "text": [
      "Kolumnnamn innan vi byter namn:\n",
      "Läsår        1\n",
      "Totalt       1\n",
      "Flickor      1\n",
      "Pojkar       1\n",
      "Totalt.1     1\n",
      "Flickor.1    1\n",
      "Pojkar.1     1\n",
      "Totalt.2     1\n",
      "Flickor.2    1\n",
      "Pojkar.2     1\n",
      "Name: count, dtype: int64\n"
     ]
    }
   ],
   "source": [
    "import plotly.express as px\n",
    "import pandas as pd\n",
    "import os\n",
    "\n",
    "# Läser in Excel-filen med betygsdata\n",
    "# Anger  att header-raden är rad 7 från 0 \n",
    "header_row = 7  \n",
    "df = pd.read_excel(\"betyg_o_prov_riksnivå.xlsx\", sheet_name=\"Tabell 1B\", engine=\"openpyxl\", header=header_row)\n",
    "\n",
    "# Byt namn på första kolumnen till läsår eftersom den innehåller årtalen\n",
    "df.rename(columns={\"Unnamed: 0\": \"Läsår\"}, inplace=True)\n",
    "\n",
    "# Skriver ut alla kolumnnamn \n",
    "print(\"Kolumnnamn innan vi byter namn:\")\n",
    "print(df.columns.value_counts())  # Visar om det finns dubbletter\n",
    "\n",
    "# Filtrera så att vi endast har de rader som innehåller årtalen 2018/19 – 2022/23\n",
    "df = df[df[\"Läsår\"].astype(str).str.match(r\"^\\d{4}/\\d{2}$\")] #gpts tips på formeln\n",
    "\n",
    "# Bytt namn på kolumner för Andel utan godkänt betyg \n",
    "# Om det redan finns en kolumn som heter totalt undviker vi att byta till samma namn\n",
    "if \"Totalt\" in df.columns:\n",
    "    df.rename(columns={\"Totalt.2\": \"Totalt (%)\", \"Flickor.2\": \"Flickor (%)\", \"Pojkar.2\": \"Pojkar (%)\"}, inplace=True)\n",
    "else:\n",
    "    df.rename(columns={\"Totalt.2\": \"Totalt\", \"Flickor.2\": \"Flickor\", \"Pojkar.2\": \"Pojkar\"}, inplace=True)\n",
    "\n",
    "# Skriv ut kolumnnamnen efter att vi bytt namn\n",
    "print(\"Kolumnnamn efter namnbyte:\")\n",
    "print(df.columns)\n",
    "\n",
    "# Väljer de rätta kolumnerna för diagrammet\n",
    "if \"Totalt (%)\" in df.columns:\n",
    "    korrekt_kolumner = [\"Totalt (%)\", \"Flickor (%)\", \"Pojkar (%)\"]\n",
    "else:\n",
    "    korrekt_kolumner = [\"Totalt\", \"Flickor\", \"Pojkar\"]\n",
    "\n",
    "# Kontrollera att de valda kolumnerna finns i DataFrame, annars stoppa programmet\n",
    "förlorade_kolumner = [kol for kol in korrekt_kolumner if kol not in df.columns]\n",
    "if förlorade_kolumner:\n",
    "    raise ValueError(f\"Följande kolumner saknas: {förlorade_kolumner}\")\n",
    "\n"
   ]
  }
 ],
 "metadata": {
  "kernelspec": {
   "display_name": ".venv",
   "language": "python",
   "name": "python3"
  },
  "language_info": {
   "codemirror_mode": {
    "name": "ipython",
    "version": 3
   },
   "file_extension": ".py",
   "mimetype": "text/x-python",
   "name": "python",
   "nbconvert_exporter": "python",
   "pygments_lexer": "ipython3",
   "version": "3.13.3"
  }
 },
 "nbformat": 4,
 "nbformat_minor": 5
}
