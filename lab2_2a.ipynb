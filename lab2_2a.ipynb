{
 "cells": [
  {
   "cell_type": "code",
   "execution_count": 18,
   "id": "50b2d1a6",
   "metadata": {},
   "outputs": [
    {
     "name": "stdout",
     "output_type": "stream",
     "text": [
      "Kolumnnamn innan vi byter namn:\n",
      "Läsår        1\n",
      "Totalt       1\n",
      "Flickor      1\n",
      "Pojkar       1\n",
      "Totalt.1     1\n",
      "Flickor.1    1\n",
      "Pojkar.1     1\n",
      "Totalt.2     1\n",
      "Flickor.2    1\n",
      "Pojkar.2     1\n",
      "Name: count, dtype: int64\n"
     ]
    }
   ],
   "source": [
    "import plotly.express as px\n",
    "import pandas as pd\n",
    "import os\n",
    "\n",
    "# Läser in Excel-filen med betygsdata\n",
    "# Anger  att header-raden är rad 7 från 0 \n",
    "header_row = 7  \n",
    "df = pd.read_excel(\"betyg_o_prov_riksnivå.xlsx\", sheet_name=\"Tabell 1B\", engine=\"openpyxl\", header=header_row)\n",
    "\n",
    "# Byt namn på första kolumnen till läsår eftersom den innehåller årtalen\n",
    "df.rename(columns={\"Unnamed: 0\": \"Läsår\"}, inplace=True)\n",
    "\n",
    "# Skriver ut alla kolumnnamn \n",
    "print(\"Kolumnnamn innan vi byter namn:\")\n",
    "print(df.columns.value_counts())  # Visar om det finns dubbletter\n",
    "\n"
   ]
  }
 ],
 "metadata": {
  "kernelspec": {
   "display_name": ".venv",
   "language": "python",
   "name": "python3"
  },
  "language_info": {
   "codemirror_mode": {
    "name": "ipython",
    "version": 3
   },
   "file_extension": ".py",
   "mimetype": "text/x-python",
   "name": "python",
   "nbconvert_exporter": "python",
   "pygments_lexer": "ipython3",
   "version": "3.13.3"
  }
 },
 "nbformat": 4,
 "nbformat_minor": 5
}
