{
 "cells": [
  {
   "cell_type": "code",
   "execution_count": 1,
   "id": "50b2d1a6",
   "metadata": {},
   "outputs": [
    {
     "name": "stdout",
     "output_type": "stream",
     "text": [
      "Kolumnnamn innan vi byter namn:\n",
      "Läsår        1\n",
      "Totalt       1\n",
      "Flickor      1\n",
      "Pojkar       1\n",
      "Totalt.1     1\n",
      "Flickor.1    1\n",
      "Pojkar.1     1\n",
      "Totalt.2     1\n",
      "Flickor.2    1\n",
      "Pojkar.2     1\n",
      "Name: count, dtype: int64\n",
      "Kolumnnamn efter namnbyte:\n",
      "Index(['Läsår', 'Totalt', 'Flickor', 'Pojkar', 'Totalt.1', 'Flickor.1',\n",
      "       'Pojkar.1', 'Totalt (%)', 'Flickor (%)', 'Pojkar (%)'],\n",
      "      dtype='object')\n",
      "Grafen har sparats som HTML: visualiseringar/andel_elever_utan_godkänt.html\n"
     ]
    },
    {
     "data": {
      "application/vnd.plotly.v1+json": {
       "config": {
        "plotlyServerURL": "https://plot.ly"
       },
       "data": [
        {
         "hovertemplate": "Kön=Totalt (%)<br>Läsår=%{x}<br>Andel elever (%)=%{y}<extra></extra>",
         "legendgroup": "Totalt (%)",
         "line": {
          "color": "#636efa",
          "dash": "solid",
          "width": 3
         },
         "marker": {
          "size": 8,
          "symbol": "circle"
         },
         "mode": "lines+markers",
         "name": "Totalt (%)",
         "orientation": "v",
         "showlegend": true,
         "type": "scatter",
         "x": [
          "2018/19",
          "2019/20",
          "2020/21",
          "2021/22",
          "2022/23"
         ],
         "xaxis": "x",
         "y": {
          "bdata": "AAAAAACAOEBmZmZmZuY3QGZmZmZm5jdAZmZmZmbmOUDNzMzMzMw6QA==",
          "dtype": "f8"
         },
         "yaxis": "y"
        },
        {
         "hovertemplate": "Kön=Flickor (%)<br>Läsår=%{x}<br>Andel elever (%)=%{y}<extra></extra>",
         "legendgroup": "Flickor (%)",
         "line": {
          "color": "#EF553B",
          "dash": "solid",
          "width": 3
         },
         "marker": {
          "size": 8,
          "symbol": "circle"
         },
         "mode": "lines+markers",
         "name": "Flickor (%)",
         "orientation": "v",
         "showlegend": true,
         "type": "scatter",
         "x": [
          "2018/19",
          "2019/20",
          "2020/21",
          "2021/22",
          "2022/23"
         ],
         "xaxis": "x",
         "y": {
          "bdata": "MzMzMzOzNUBmZmZmZmY1QGZmZmZm5jVAMzMzMzMzOEAAAAAAAIA5QA==",
          "dtype": "f8"
         },
         "yaxis": "y"
        },
        {
         "hovertemplate": "Kön=Pojkar (%)<br>Läsår=%{x}<br>Andel elever (%)=%{y}<extra></extra>",
         "legendgroup": "Pojkar (%)",
         "line": {
          "color": "#00cc96",
          "dash": "solid",
          "width": 3
         },
         "marker": {
          "size": 8,
          "symbol": "circle"
         },
         "mode": "lines+markers",
         "name": "Pojkar (%)",
         "orientation": "v",
         "showlegend": true,
         "type": "scatter",
         "x": [
          "2018/19",
          "2019/20",
          "2020/21",
          "2021/22",
          "2022/23"
         ],
         "xaxis": "x",
         "y": {
          "bdata": "MzMzMzMzO0DNzMzMzEw6QGZmZmZm5jlAAAAAAACAO0AAAAAAAAA8QA==",
          "dtype": "f8"
         },
         "yaxis": "y"
        }
       ],
       "layout": {
        "legend": {
         "title": {
          "text": "Kön"
         },
         "tracegroupgap": 0
        },
        "template": {
         "data": {
          "bar": [
           {
            "error_x": {
             "color": "#2a3f5f"
            },
            "error_y": {
             "color": "#2a3f5f"
            },
            "marker": {
             "line": {
              "color": "#E5ECF6",
              "width": 0.5
             },
             "pattern": {
              "fillmode": "overlay",
              "size": 10,
              "solidity": 0.2
             }
            },
            "type": "bar"
           }
          ],
          "barpolar": [
           {
            "marker": {
             "line": {
              "color": "#E5ECF6",
              "width": 0.5
             },
             "pattern": {
              "fillmode": "overlay",
              "size": 10,
              "solidity": 0.2
             }
            },
            "type": "barpolar"
           }
          ],
          "carpet": [
           {
            "aaxis": {
             "endlinecolor": "#2a3f5f",
             "gridcolor": "white",
             "linecolor": "white",
             "minorgridcolor": "white",
             "startlinecolor": "#2a3f5f"
            },
            "baxis": {
             "endlinecolor": "#2a3f5f",
             "gridcolor": "white",
             "linecolor": "white",
             "minorgridcolor": "white",
             "startlinecolor": "#2a3f5f"
            },
            "type": "carpet"
           }
          ],
          "choropleth": [
           {
            "colorbar": {
             "outlinewidth": 0,
             "ticks": ""
            },
            "type": "choropleth"
           }
          ],
          "contour": [
           {
            "colorbar": {
             "outlinewidth": 0,
             "ticks": ""
            },
            "colorscale": [
             [
              0,
              "#0d0887"
             ],
             [
              0.1111111111111111,
              "#46039f"
             ],
             [
              0.2222222222222222,
              "#7201a8"
             ],
             [
              0.3333333333333333,
              "#9c179e"
             ],
             [
              0.4444444444444444,
              "#bd3786"
             ],
             [
              0.5555555555555556,
              "#d8576b"
             ],
             [
              0.6666666666666666,
              "#ed7953"
             ],
             [
              0.7777777777777778,
              "#fb9f3a"
             ],
             [
              0.8888888888888888,
              "#fdca26"
             ],
             [
              1,
              "#f0f921"
             ]
            ],
            "type": "contour"
           }
          ],
          "contourcarpet": [
           {
            "colorbar": {
             "outlinewidth": 0,
             "ticks": ""
            },
            "type": "contourcarpet"
           }
          ],
          "heatmap": [
           {
            "colorbar": {
             "outlinewidth": 0,
             "ticks": ""
            },
            "colorscale": [
             [
              0,
              "#0d0887"
             ],
             [
              0.1111111111111111,
              "#46039f"
             ],
             [
              0.2222222222222222,
              "#7201a8"
             ],
             [
              0.3333333333333333,
              "#9c179e"
             ],
             [
              0.4444444444444444,
              "#bd3786"
             ],
             [
              0.5555555555555556,
              "#d8576b"
             ],
             [
              0.6666666666666666,
              "#ed7953"
             ],
             [
              0.7777777777777778,
              "#fb9f3a"
             ],
             [
              0.8888888888888888,
              "#fdca26"
             ],
             [
              1,
              "#f0f921"
             ]
            ],
            "type": "heatmap"
           }
          ],
          "histogram": [
           {
            "marker": {
             "pattern": {
              "fillmode": "overlay",
              "size": 10,
              "solidity": 0.2
             }
            },
            "type": "histogram"
           }
          ],
          "histogram2d": [
           {
            "colorbar": {
             "outlinewidth": 0,
             "ticks": ""
            },
            "colorscale": [
             [
              0,
              "#0d0887"
             ],
             [
              0.1111111111111111,
              "#46039f"
             ],
             [
              0.2222222222222222,
              "#7201a8"
             ],
             [
              0.3333333333333333,
              "#9c179e"
             ],
             [
              0.4444444444444444,
              "#bd3786"
             ],
             [
              0.5555555555555556,
              "#d8576b"
             ],
             [
              0.6666666666666666,
              "#ed7953"
             ],
             [
              0.7777777777777778,
              "#fb9f3a"
             ],
             [
              0.8888888888888888,
              "#fdca26"
             ],
             [
              1,
              "#f0f921"
             ]
            ],
            "type": "histogram2d"
           }
          ],
          "histogram2dcontour": [
           {
            "colorbar": {
             "outlinewidth": 0,
             "ticks": ""
            },
            "colorscale": [
             [
              0,
              "#0d0887"
             ],
             [
              0.1111111111111111,
              "#46039f"
             ],
             [
              0.2222222222222222,
              "#7201a8"
             ],
             [
              0.3333333333333333,
              "#9c179e"
             ],
             [
              0.4444444444444444,
              "#bd3786"
             ],
             [
              0.5555555555555556,
              "#d8576b"
             ],
             [
              0.6666666666666666,
              "#ed7953"
             ],
             [
              0.7777777777777778,
              "#fb9f3a"
             ],
             [
              0.8888888888888888,
              "#fdca26"
             ],
             [
              1,
              "#f0f921"
             ]
            ],
            "type": "histogram2dcontour"
           }
          ],
          "mesh3d": [
           {
            "colorbar": {
             "outlinewidth": 0,
             "ticks": ""
            },
            "type": "mesh3d"
           }
          ],
          "parcoords": [
           {
            "line": {
             "colorbar": {
              "outlinewidth": 0,
              "ticks": ""
             }
            },
            "type": "parcoords"
           }
          ],
          "pie": [
           {
            "automargin": true,
            "type": "pie"
           }
          ],
          "scatter": [
           {
            "fillpattern": {
             "fillmode": "overlay",
             "size": 10,
             "solidity": 0.2
            },
            "type": "scatter"
           }
          ],
          "scatter3d": [
           {
            "line": {
             "colorbar": {
              "outlinewidth": 0,
              "ticks": ""
             }
            },
            "marker": {
             "colorbar": {
              "outlinewidth": 0,
              "ticks": ""
             }
            },
            "type": "scatter3d"
           }
          ],
          "scattercarpet": [
           {
            "marker": {
             "colorbar": {
              "outlinewidth": 0,
              "ticks": ""
             }
            },
            "type": "scattercarpet"
           }
          ],
          "scattergeo": [
           {
            "marker": {
             "colorbar": {
              "outlinewidth": 0,
              "ticks": ""
             }
            },
            "type": "scattergeo"
           }
          ],
          "scattergl": [
           {
            "marker": {
             "colorbar": {
              "outlinewidth": 0,
              "ticks": ""
             }
            },
            "type": "scattergl"
           }
          ],
          "scattermap": [
           {
            "marker": {
             "colorbar": {
              "outlinewidth": 0,
              "ticks": ""
             }
            },
            "type": "scattermap"
           }
          ],
          "scattermapbox": [
           {
            "marker": {
             "colorbar": {
              "outlinewidth": 0,
              "ticks": ""
             }
            },
            "type": "scattermapbox"
           }
          ],
          "scatterpolar": [
           {
            "marker": {
             "colorbar": {
              "outlinewidth": 0,
              "ticks": ""
             }
            },
            "type": "scatterpolar"
           }
          ],
          "scatterpolargl": [
           {
            "marker": {
             "colorbar": {
              "outlinewidth": 0,
              "ticks": ""
             }
            },
            "type": "scatterpolargl"
           }
          ],
          "scatterternary": [
           {
            "marker": {
             "colorbar": {
              "outlinewidth": 0,
              "ticks": ""
             }
            },
            "type": "scatterternary"
           }
          ],
          "surface": [
           {
            "colorbar": {
             "outlinewidth": 0,
             "ticks": ""
            },
            "colorscale": [
             [
              0,
              "#0d0887"
             ],
             [
              0.1111111111111111,
              "#46039f"
             ],
             [
              0.2222222222222222,
              "#7201a8"
             ],
             [
              0.3333333333333333,
              "#9c179e"
             ],
             [
              0.4444444444444444,
              "#bd3786"
             ],
             [
              0.5555555555555556,
              "#d8576b"
             ],
             [
              0.6666666666666666,
              "#ed7953"
             ],
             [
              0.7777777777777778,
              "#fb9f3a"
             ],
             [
              0.8888888888888888,
              "#fdca26"
             ],
             [
              1,
              "#f0f921"
             ]
            ],
            "type": "surface"
           }
          ],
          "table": [
           {
            "cells": {
             "fill": {
              "color": "#EBF0F8"
             },
             "line": {
              "color": "white"
             }
            },
            "header": {
             "fill": {
              "color": "#C8D4E3"
             },
             "line": {
              "color": "white"
             }
            },
            "type": "table"
           }
          ]
         },
         "layout": {
          "annotationdefaults": {
           "arrowcolor": "#2a3f5f",
           "arrowhead": 0,
           "arrowwidth": 1
          },
          "autotypenumbers": "strict",
          "coloraxis": {
           "colorbar": {
            "outlinewidth": 0,
            "ticks": ""
           }
          },
          "colorscale": {
           "diverging": [
            [
             0,
             "#8e0152"
            ],
            [
             0.1,
             "#c51b7d"
            ],
            [
             0.2,
             "#de77ae"
            ],
            [
             0.3,
             "#f1b6da"
            ],
            [
             0.4,
             "#fde0ef"
            ],
            [
             0.5,
             "#f7f7f7"
            ],
            [
             0.6,
             "#e6f5d0"
            ],
            [
             0.7,
             "#b8e186"
            ],
            [
             0.8,
             "#7fbc41"
            ],
            [
             0.9,
             "#4d9221"
            ],
            [
             1,
             "#276419"
            ]
           ],
           "sequential": [
            [
             0,
             "#0d0887"
            ],
            [
             0.1111111111111111,
             "#46039f"
            ],
            [
             0.2222222222222222,
             "#7201a8"
            ],
            [
             0.3333333333333333,
             "#9c179e"
            ],
            [
             0.4444444444444444,
             "#bd3786"
            ],
            [
             0.5555555555555556,
             "#d8576b"
            ],
            [
             0.6666666666666666,
             "#ed7953"
            ],
            [
             0.7777777777777778,
             "#fb9f3a"
            ],
            [
             0.8888888888888888,
             "#fdca26"
            ],
            [
             1,
             "#f0f921"
            ]
           ],
           "sequentialminus": [
            [
             0,
             "#0d0887"
            ],
            [
             0.1111111111111111,
             "#46039f"
            ],
            [
             0.2222222222222222,
             "#7201a8"
            ],
            [
             0.3333333333333333,
             "#9c179e"
            ],
            [
             0.4444444444444444,
             "#bd3786"
            ],
            [
             0.5555555555555556,
             "#d8576b"
            ],
            [
             0.6666666666666666,
             "#ed7953"
            ],
            [
             0.7777777777777778,
             "#fb9f3a"
            ],
            [
             0.8888888888888888,
             "#fdca26"
            ],
            [
             1,
             "#f0f921"
            ]
           ]
          },
          "colorway": [
           "#636efa",
           "#EF553B",
           "#00cc96",
           "#ab63fa",
           "#FFA15A",
           "#19d3f3",
           "#FF6692",
           "#B6E880",
           "#FF97FF",
           "#FECB52"
          ],
          "font": {
           "color": "#2a3f5f"
          },
          "geo": {
           "bgcolor": "white",
           "lakecolor": "white",
           "landcolor": "#E5ECF6",
           "showlakes": true,
           "showland": true,
           "subunitcolor": "white"
          },
          "hoverlabel": {
           "align": "left"
          },
          "hovermode": "closest",
          "mapbox": {
           "style": "light"
          },
          "paper_bgcolor": "white",
          "plot_bgcolor": "#E5ECF6",
          "polar": {
           "angularaxis": {
            "gridcolor": "white",
            "linecolor": "white",
            "ticks": ""
           },
           "bgcolor": "#E5ECF6",
           "radialaxis": {
            "gridcolor": "white",
            "linecolor": "white",
            "ticks": ""
           }
          },
          "scene": {
           "xaxis": {
            "backgroundcolor": "#E5ECF6",
            "gridcolor": "white",
            "gridwidth": 2,
            "linecolor": "white",
            "showbackground": true,
            "ticks": "",
            "zerolinecolor": "white"
           },
           "yaxis": {
            "backgroundcolor": "#E5ECF6",
            "gridcolor": "white",
            "gridwidth": 2,
            "linecolor": "white",
            "showbackground": true,
            "ticks": "",
            "zerolinecolor": "white"
           },
           "zaxis": {
            "backgroundcolor": "#E5ECF6",
            "gridcolor": "white",
            "gridwidth": 2,
            "linecolor": "white",
            "showbackground": true,
            "ticks": "",
            "zerolinecolor": "white"
           }
          },
          "shapedefaults": {
           "line": {
            "color": "#2a3f5f"
           }
          },
          "ternary": {
           "aaxis": {
            "gridcolor": "white",
            "linecolor": "white",
            "ticks": ""
           },
           "baxis": {
            "gridcolor": "white",
            "linecolor": "white",
            "ticks": ""
           },
           "bgcolor": "#E5ECF6",
           "caxis": {
            "gridcolor": "white",
            "linecolor": "white",
            "ticks": ""
           }
          },
          "title": {
           "x": 0.05
          },
          "xaxis": {
           "automargin": true,
           "gridcolor": "white",
           "linecolor": "white",
           "ticks": "",
           "title": {
            "standoff": 15
           },
           "zerolinecolor": "white",
           "zerolinewidth": 2
          },
          "yaxis": {
           "automargin": true,
           "gridcolor": "white",
           "linecolor": "white",
           "ticks": "",
           "title": {
            "standoff": 15
           },
           "zerolinecolor": "white",
           "zerolinewidth": 2
          }
         }
        },
        "title": {
         "text": "Andel elever utan godkänt betyg (2018-2023)"
        },
        "xaxis": {
         "anchor": "y",
         "domain": [
          0,
          1
         ],
         "title": {
          "text": "Läsår"
         }
        },
        "yaxis": {
         "anchor": "x",
         "domain": [
          0,
          1
         ],
         "title": {
          "text": "Andel elever utan godkänt betyg (%)"
         }
        }
       }
      }
     },
     "metadata": {},
     "output_type": "display_data"
    }
   ],
   "source": [
    "import plotly.express as px\n",
    "import pandas as pd\n",
    "import os\n",
    "\n",
    "# Läser in Excel-filen med betygsdata\n",
    "# Anger  att header-raden är rad 7 från 0 \n",
    "header_row = 7  \n",
    "df = pd.read_excel(\"betyg_o_prov_riksnivå.xlsx\", sheet_name=\"Tabell 1B\", engine=\"openpyxl\", header=header_row)\n",
    "\n",
    "# Byt namn på första kolumnen till läsår eftersom den innehåller årtalen\n",
    "df.rename(columns={\"Unnamed: 0\": \"Läsår\"}, inplace=True)\n",
    "\n",
    "# Skriver ut alla kolumnnamn \n",
    "print(\"Kolumnnamn innan vi byter namn:\")\n",
    "print(df.columns.value_counts())  # Visar om det finns dubbletter\n",
    "\n",
    "# Filtrera så att vi endast har de rader som innehåller årtalen 2018/19 – 2022/23\n",
    "df = df[df[\"Läsår\"].astype(str).str.match(r\"^\\d{4}/\\d{2}$\")] #gpts tips på formeln\n",
    "\n",
    "# Bytt namn på kolumner för Andel utan godkänt betyg \n",
    "# Om det redan finns en kolumn som heter totalt undviker vi att byta till samma namn\n",
    "if \"Totalt\" in df.columns:\n",
    "    df.rename(columns={\"Totalt.2\": \"Totalt (%)\", \"Flickor.2\": \"Flickor (%)\", \"Pojkar.2\": \"Pojkar (%)\"}, inplace=True)\n",
    "else:\n",
    "    df.rename(columns={\"Totalt.2\": \"Totalt\", \"Flickor.2\": \"Flickor\", \"Pojkar.2\": \"Pojkar\"}, inplace=True)\n",
    "\n",
    "# Skriv ut kolumnnamnen efter att vi bytt namn\n",
    "print(\"Kolumnnamn efter namnbyte:\")\n",
    "print(df.columns)\n",
    "\n",
    "# Väljer de rätta kolumnerna för diagrammet\n",
    "if \"Totalt (%)\" in df.columns:\n",
    "    korrekt_kolumner = [\"Totalt (%)\", \"Flickor (%)\", \"Pojkar (%)\"]\n",
    "else:\n",
    "    korrekt_kolumner = [\"Totalt\", \"Flickor\", \"Pojkar\"]\n",
    "\n",
    "# Kontrollera att de valda kolumnerna finns i DataFrame, annars stoppa programmet\n",
    "förlorade_kolumner = [kol for kol in korrekt_kolumner if kol not in df.columns]\n",
    "if förlorade_kolumner:\n",
    "    raise ValueError(f\"Följande kolumner saknas: {förlorade_kolumner}\")\n",
    "\n",
    "# Skapar ett linjediagram med plotly express\n",
    "fig = px.line(df, x=\"Läsår\", # X-axeln visar olika läsår 2018/19 - 2022/23\n",
    "              y=korrekt_kolumner, # Y-axeln visar andelen elever utan godkänt betyg (%)\n",
    "              markers=True, # Lägger till punkter på linjerna för att tydliggöra värdena\n",
    "              title=\"Andel elever utan godkänt betyg (2018-2023)\",  # Titel för diagrammet\n",
    "              labels={\"value\": \"Andel elever (%)\", \"variable\": \"Kön\", \"Läsår\": \"Läsår\"}) # Anpassar etiketter\n",
    "\n",
    "# Anpassar utseendet på grafen # - Ökar linjebredden för bättre synlighet\n",
    "# Gör markörerna större så att datapunkterna blir tydligare\n",
    "# Lägger till tydliga titlar på x- och y-axlarna\n",
    "fig.update_traces(line=dict(width=3), marker=dict(size=8))  # Gör linjerna tjockare (3 px) och förstorar markörerna (8 px)\n",
    "fig.update_yaxes(title_text=\"Andel elever utan godkänt betyg (%)\") # Sätter en tydlig titel på y-axeln så att det framgår vad som mäts\n",
    "fig.update_xaxes(title_text=\"Läsår\") # Sätter en tydlig titel på x-axeln så att det framgår vilka årtal som visas\n",
    "\n",
    "# Sparar filen i mappen visualiseringar\n",
    "html_path = \"visualiseringar/andel_elever_utan_godkänt.html\"\n",
    "fig.write_html(html_path)\n",
    "\n",
    "print(f\"Grafen har sparats som HTML: {html_path}\")\n",
    "\n",
    "# Visa grafen i webbläsaren\n",
    "fig.show()\n"
   ]
  }
 ],
 "metadata": {
  "kernelspec": {
   "display_name": ".venv",
   "language": "python",
   "name": "python3"
  },
  "language_info": {
   "codemirror_mode": {
    "name": "ipython",
    "version": 3
   },
   "file_extension": ".py",
   "mimetype": "text/x-python",
   "name": "python",
   "nbconvert_exporter": "python",
   "pygments_lexer": "ipython3",
   "version": "3.13.3"
  }
 },
 "nbformat": 4,
 "nbformat_minor": 5
}
